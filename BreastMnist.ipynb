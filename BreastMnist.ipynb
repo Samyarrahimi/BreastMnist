{
  "nbformat": 4,
  "nbformat_minor": 0,
  "metadata": {
    "colab": {
      "name": "BreastMnist.ipynb",
      "provenance": []
    },
    "kernelspec": {
      "name": "python3",
      "display_name": "Python 3"
    },
    "accelerator": "GPU"
  },
  "cells": [
    {
      "cell_type": "code",
      "metadata": {
        "colab": {
          "resources": {
            "http://localhost:8080/nbextensions/google.colab/files.js": {
              "data": "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",
              "ok": true,
              "headers": [
                [
                  "content-type",
                  "application/javascript"
                ]
              ],
              "status": 200,
              "status_text": "OK"
            }
          },
          "base_uri": "https://localhost:8080/",
          "height": 74
        },
        "id": "zXeKhk2Y7opz",
        "outputId": "4ecf8130-90a7-40a1-8f11-c6ac73a915ef"
      },
      "source": [
        "from google.colab import files\r\n",
        "uploaded = files.upload()"
      ],
      "execution_count": 1,
      "outputs": [
        {
          "output_type": "display_data",
          "data": {
            "text/html": [
              "\n",
              "     <input type=\"file\" id=\"files-8ec77acb-ab68-426d-b3a2-5f81b77469f3\" name=\"files[]\" multiple disabled\n",
              "        style=\"border:none\" />\n",
              "     <output id=\"result-8ec77acb-ab68-426d-b3a2-5f81b77469f3\">\n",
              "      Upload widget is only available when the cell has been executed in the\n",
              "      current browser session. Please rerun this cell to enable.\n",
              "      </output>\n",
              "      <script src=\"/nbextensions/google.colab/files.js\"></script> "
            ],
            "text/plain": [
              "<IPython.core.display.HTML object>"
            ]
          },
          "metadata": {
            "tags": []
          }
        },
        {
          "output_type": "stream",
          "text": [
            "Saving breastmnist.npz to breastmnist (2).npz\n"
          ],
          "name": "stdout"
        }
      ]
    },
    {
      "cell_type": "code",
      "metadata": {
        "colab": {
          "base_uri": "https://localhost:8080/"
        },
        "id": "j6W3H8mc8m1E",
        "outputId": "0b2de56d-3d02-4bfd-d3be-44e8d7e1aa31"
      },
      "source": [
        "import numpy as np\r\n",
        "folder = np.load(\"breastmnist.npz\")\r\n",
        "files = folder.files\r\n",
        "\r\n",
        "for file in files:\r\n",
        "  print(file)"
      ],
      "execution_count": 2,
      "outputs": [
        {
          "output_type": "stream",
          "text": [
            "train_images\n",
            "val_images\n",
            "test_images\n",
            "train_labels\n",
            "val_labels\n",
            "test_labels\n"
          ],
          "name": "stdout"
        }
      ]
    },
    {
      "cell_type": "code",
      "metadata": {
        "id": "lWzdr_6IAe4z"
      },
      "source": [
        "train_images = folder['train_images.npy']\r\n",
        "val_images = folder['val_images.npy']\r\n",
        "test_images = folder['test_images.npy']\r\n",
        "train_labels = folder['train_labels.npy']\r\n",
        "val_labels = folder['val_labels.npy']\r\n",
        "test_labels = folder['test_labels.npy']"
      ],
      "execution_count": 3,
      "outputs": []
    },
    {
      "cell_type": "code",
      "metadata": {
        "colab": {
          "base_uri": "https://localhost:8080/"
        },
        "id": "zs7BHMvQ_VR9",
        "outputId": "c8da6690-afa8-46f8-b4a9-29051796d6de"
      },
      "source": [
        "print(train_images.shape)\r\n",
        "print(train_labels.shape)\r\n",
        "print(val_images.shape)\r\n",
        "print(val_labels.shape)\r\n",
        "print(test_images.shape)\r\n",
        "print(test_labels.shape)"
      ],
      "execution_count": 4,
      "outputs": [
        {
          "output_type": "stream",
          "text": [
            "(546, 28, 28)\n",
            "(546, 1)\n",
            "(78, 28, 28)\n",
            "(78, 1)\n",
            "(156, 28, 28)\n",
            "(156, 1)\n"
          ],
          "name": "stdout"
        }
      ]
    },
    {
      "cell_type": "code",
      "metadata": {
        "colab": {
          "base_uri": "https://localhost:8080/"
        },
        "id": "R5v3pMk5ML_p",
        "outputId": "c6a02684-ed18-46f2-b94f-0cce3803a5e9"
      },
      "source": [
        "train_images = train_images.astype('float32')\r\n",
        "train_images = train_images / 255\r\n",
        "val_images = val_images.astype('float32')\r\n",
        "val_images = val_images / 255\r\n",
        "test_images = test_images.astype('float32')\r\n",
        "test_images = test_images /255\r\n",
        "\r\n",
        "print(train_images[0])"
      ],
      "execution_count": 5,
      "outputs": [
        {
          "output_type": "stream",
          "text": [
            "[[0.54509807 0.54509807 0.5411765  0.54509807 0.5568628  0.58431375\n",
            "  0.6117647  0.62352943 0.6431373  0.654902   0.65882355 0.6392157\n",
            "  0.6509804  0.6627451  0.6431373  0.6509804  0.63529414 0.61960787\n",
            "  0.6431373  0.6117647  0.6117647  0.64705884 0.6313726  0.6039216\n",
            "  0.6117647  0.64705884 0.63529414 0.64705884]\n",
            " [0.32941177 0.36078432 0.36862746 0.32941177 0.32941177 0.3372549\n",
            "  0.36862746 0.42745098 0.5058824  0.5294118  0.5137255  0.50980395\n",
            "  0.53333336 0.49019608 0.43529412 0.46666667 0.45882353 0.4745098\n",
            "  0.5137255  0.45882353 0.5176471  0.52156866 0.52156866 0.54509807\n",
            "  0.54901963 0.4862745  0.45490196 0.4392157 ]\n",
            " [0.32941177 0.32156864 0.34117648 0.39607844 0.39607844 0.3764706\n",
            "  0.3529412  0.37254903 0.41568628 0.38039216 0.3372549  0.38039216\n",
            "  0.45490196 0.41960785 0.35686275 0.3372549  0.3019608  0.35686275\n",
            "  0.5019608  0.5058824  0.5058824  0.50980395 0.53333336 0.53333336\n",
            "  0.5019608  0.4862745  0.49803922 0.49411765]\n",
            " [0.3254902  0.3019608  0.37254903 0.47058824 0.41960785 0.29803923\n",
            "  0.3647059  0.3764706  0.41568628 0.44705883 0.43529412 0.42745098\n",
            "  0.38039216 0.3254902  0.28235295 0.2784314  0.25490198 0.2901961\n",
            "  0.3882353  0.43137255 0.47843137 0.52156866 0.43529412 0.43137255\n",
            "  0.47843137 0.5254902  0.56078434 0.58431375]\n",
            " [0.29803923 0.28627452 0.34901962 0.36862746 0.34901962 0.30980393\n",
            "  0.28627452 0.2901961  0.3254902  0.42745098 0.43137255 0.46666667\n",
            "  0.43137255 0.40392157 0.3254902  0.29411766 0.2784314  0.3019608\n",
            "  0.34509805 0.38039216 0.45882353 0.47843137 0.47058824 0.46666667\n",
            "  0.5254902  0.5176471  0.5137255  0.5019608 ]\n",
            " [0.3137255  0.3019608  0.3019608  0.24313726 0.21568628 0.2627451\n",
            "  0.2784314  0.25882354 0.30980393 0.3647059  0.40392157 0.39607844\n",
            "  0.40784314 0.44313726 0.42352942 0.37254903 0.32941177 0.31764707\n",
            "  0.4        0.41960785 0.42745098 0.4862745  0.5411765  0.5254902\n",
            "  0.49019608 0.44313726 0.5058824  0.5372549 ]\n",
            " [0.3529412  0.35686275 0.32941177 0.2627451  0.19607843 0.23137255\n",
            "  0.32941177 0.34117648 0.38039216 0.42352942 0.5411765  0.5254902\n",
            "  0.5176471  0.5568628  0.57254905 0.5882353  0.49019608 0.42745098\n",
            "  0.47843137 0.5058824  0.5019608  0.40784314 0.42352942 0.43529412\n",
            "  0.48235294 0.49411765 0.5058824  0.49411765]\n",
            " [0.35686275 0.3882353  0.4627451  0.40392157 0.30588236 0.28235295\n",
            "  0.4117647  0.5254902  0.5529412  0.4862745  0.5137255  0.5411765\n",
            "  0.48235294 0.4        0.3764706  0.3882353  0.35686275 0.34509805\n",
            "  0.4117647  0.43137255 0.36862746 0.3372549  0.41960785 0.4745098\n",
            "  0.53333336 0.59607846 0.627451   0.6313726 ]\n",
            " [0.42352942 0.45490196 0.58431375 0.54509807 0.44313726 0.39215687\n",
            "  0.4392157  0.4862745  0.47058824 0.4509804  0.46666667 0.4862745\n",
            "  0.47843137 0.43529412 0.38039216 0.34117648 0.3254902  0.3647059\n",
            "  0.40392157 0.4627451  0.47058824 0.46666667 0.5137255  0.5058824\n",
            "  0.4509804  0.4745098  0.48235294 0.50980395]\n",
            " [0.41960785 0.45882353 0.48235294 0.42745098 0.40392157 0.45882353\n",
            "  0.49411765 0.54509807 0.57254905 0.6        0.6666667  0.7137255\n",
            "  0.7019608  0.654902   0.5294118  0.47058824 0.4627451  0.49019608\n",
            "  0.5254902  0.56078434 0.54509807 0.49019608 0.5294118  0.53333336\n",
            "  0.5254902  0.5294118  0.52156866 0.53333336]\n",
            " [0.6        0.5803922  0.52156866 0.54509807 0.5294118  0.5372549\n",
            "  0.5647059  0.56078434 0.54901963 0.5254902  0.5647059  0.63529414\n",
            "  0.6627451  0.627451   0.54509807 0.53333336 0.5372549  0.58431375\n",
            "  0.6431373  0.68235296 0.6666667  0.5882353  0.5803922  0.5921569\n",
            "  0.5529412  0.5254902  0.5568628  0.6039216 ]\n",
            " [0.45490196 0.5686275  0.5882353  0.5411765  0.43529412 0.3882353\n",
            "  0.42352942 0.4509804  0.4509804  0.49411765 0.5294118  0.53333336\n",
            "  0.5294118  0.4745098  0.44313726 0.42745098 0.47058824 0.5058824\n",
            "  0.63529414 0.7254902  0.73333335 0.6784314  0.69411767 0.7176471\n",
            "  0.6901961  0.654902   0.6862745  0.7137255 ]\n",
            " [0.42352942 0.50980395 0.53333336 0.4745098  0.45490196 0.46666667\n",
            "  0.47058824 0.49411765 0.5686275  0.6431373  0.69411767 0.6313726\n",
            "  0.53333336 0.50980395 0.5294118  0.59607846 0.59607846 0.5803922\n",
            "  0.6156863  0.62352943 0.61960787 0.5803922  0.5882353  0.61960787\n",
            "  0.60784316 0.5882353  0.6156863  0.61960787]\n",
            " [0.43529412 0.4509804  0.43137255 0.49803922 0.6117647  0.6313726\n",
            "  0.5647059  0.48235294 0.42352942 0.54901963 0.67058825 0.7019608\n",
            "  0.7411765  0.69411767 0.64705884 0.6392157  0.6117647  0.6117647\n",
            "  0.6117647  0.54509807 0.47058824 0.43529412 0.44313726 0.47843137\n",
            "  0.4745098  0.45882353 0.5058824  0.56078434]\n",
            " [0.48235294 0.5254902  0.54509807 0.5686275  0.5647059  0.4627451\n",
            "  0.4        0.35686275 0.4        0.54509807 0.7764706  0.7921569\n",
            "  0.7058824  0.6627451  0.654902   0.60784316 0.5764706  0.56078434\n",
            "  0.5254902  0.49411765 0.4392157  0.3529412  0.34901962 0.36862746\n",
            "  0.39607844 0.4509804  0.5647059  0.6156863 ]\n",
            " [0.44313726 0.39607844 0.40392157 0.42745098 0.43529412 0.47058824\n",
            "  0.47843137 0.41568628 0.43529412 0.56078434 0.73333335 0.6745098\n",
            "  0.6392157  0.5803922  0.56078434 0.60784316 0.6117647  0.57254905\n",
            "  0.50980395 0.42745098 0.34901962 0.31764707 0.38039216 0.38431373\n",
            "  0.42745098 0.53333336 0.5568628  0.57254905]\n",
            " [0.31764707 0.37254903 0.42745098 0.4392157  0.4627451  0.5686275\n",
            "  0.57254905 0.44313726 0.37254903 0.41568628 0.52156866 0.54509807\n",
            "  0.52156866 0.5019608  0.52156866 0.5568628  0.5176471  0.44313726\n",
            "  0.38039216 0.29803923 0.2901961  0.3137255  0.36862746 0.44705883\n",
            "  0.5372549  0.6156863  0.6784314  0.6431373 ]\n",
            " [0.20392157 0.26666668 0.33333334 0.39607844 0.40784314 0.4509804\n",
            "  0.46666667 0.4117647  0.29411766 0.27058825 0.3529412  0.3764706\n",
            "  0.41568628 0.43137255 0.41568628 0.39215687 0.3647059  0.34901962\n",
            "  0.29803923 0.28627452 0.30980393 0.34117648 0.41568628 0.47843137\n",
            "  0.5254902  0.5529412  0.50980395 0.5254902 ]\n",
            " [0.29411766 0.32156864 0.36078432 0.3764706  0.4        0.41960785\n",
            "  0.37254903 0.3254902  0.2784314  0.25882354 0.29803923 0.28627452\n",
            "  0.28627452 0.30588236 0.29803923 0.28235295 0.27450982 0.3137255\n",
            "  0.30588236 0.30588236 0.34117648 0.39215687 0.43529412 0.48235294\n",
            "  0.52156866 0.54509807 0.54509807 0.5254902 ]\n",
            " [0.29803923 0.34901962 0.38039216 0.36862746 0.32941177 0.3529412\n",
            "  0.36862746 0.31764707 0.24705882 0.21960784 0.23529412 0.2509804\n",
            "  0.29803923 0.34117648 0.37254903 0.39607844 0.38431373 0.39607844\n",
            "  0.39607844 0.34117648 0.3019608  0.29411766 0.30980393 0.30588236\n",
            "  0.2901961  0.32941177 0.32941177 0.3254902 ]\n",
            " [0.23529412 0.2627451  0.31764707 0.3019608  0.26666668 0.28627452\n",
            "  0.3137255  0.2901961  0.24705882 0.22352941 0.24705882 0.34117648\n",
            "  0.43137255 0.44705883 0.40392157 0.38431373 0.3647059  0.34509805\n",
            "  0.3137255  0.2509804  0.20392157 0.19215687 0.1882353  0.19607843\n",
            "  0.19215687 0.2        0.21568628 0.24705882]\n",
            " [0.21960784 0.22352941 0.28627452 0.29411766 0.28627452 0.23921569\n",
            "  0.23137255 0.23529412 0.23921569 0.25490198 0.25490198 0.2901961\n",
            "  0.32156864 0.34117648 0.2901961  0.2627451  0.27058825 0.23921569\n",
            "  0.20784314 0.18431373 0.16470589 0.14901961 0.18431373 0.19607843\n",
            "  0.18039216 0.21176471 0.2509804  0.23137255]\n",
            " [0.21960784 0.26666668 0.2627451  0.21176471 0.19215687 0.20392157\n",
            "  0.23137255 0.23921569 0.22352941 0.22352941 0.21568628 0.23529412\n",
            "  0.26666668 0.2784314  0.25490198 0.23137255 0.21568628 0.21568628\n",
            "  0.18431373 0.16078432 0.14117648 0.14117648 0.18431373 0.18431373\n",
            "  0.17254902 0.18431373 0.20784314 0.19607843]\n",
            " [0.14901961 0.20784314 0.23921569 0.20784314 0.18431373 0.21960784\n",
            "  0.2627451  0.25882354 0.24313726 0.23137255 0.24705882 0.3137255\n",
            "  0.3647059  0.3647059  0.35686275 0.3254902  0.26666668 0.23529412\n",
            "  0.1764706  0.15686275 0.16078432 0.15294118 0.15686275 0.15294118\n",
            "  0.15686275 0.15686275 0.14509805 0.14117648]\n",
            " [0.1764706  0.2        0.21176471 0.22745098 0.2784314  0.34509805\n",
            "  0.41568628 0.42352942 0.38431373 0.3529412  0.3019608  0.31764707\n",
            "  0.33333334 0.34117648 0.35686275 0.32941177 0.28627452 0.2784314\n",
            "  0.21176471 0.15294118 0.13725491 0.14509805 0.16862746 0.18431373\n",
            "  0.19215687 0.15686275 0.13725491 0.12156863]\n",
            " [0.24705882 0.27450982 0.3254902  0.38431373 0.4        0.38431373\n",
            "  0.37254903 0.3529412  0.29411766 0.24705882 0.21960784 0.2\n",
            "  0.2        0.20784314 0.20392157 0.20392157 0.21176471 0.23137255\n",
            "  0.22745098 0.20784314 0.1764706  0.16470589 0.20784314 0.19607843\n",
            "  0.15686275 0.14117648 0.13333334 0.1254902 ]\n",
            " [0.23137255 0.27450982 0.28627452 0.3254902  0.32941177 0.29411766\n",
            "  0.25882354 0.2509804  0.20392157 0.18039216 0.16078432 0.15686275\n",
            "  0.15294118 0.13725491 0.13725491 0.12941177 0.12156863 0.12941177\n",
            "  0.13725491 0.15294118 0.15686275 0.15294118 0.15686275 0.18039216\n",
            "  0.20392157 0.19607843 0.15686275 0.13333334]\n",
            " [0.24313726 0.25490198 0.23921569 0.24313726 0.2509804  0.21568628\n",
            "  0.18431373 0.18039216 0.14901961 0.12941177 0.11764706 0.1254902\n",
            "  0.11764706 0.10588235 0.09803922 0.09803922 0.08627451 0.08235294\n",
            "  0.08235294 0.09019608 0.12156863 0.17254902 0.1882353  0.15686275\n",
            "  0.17254902 0.2        0.16470589 0.15686275]]\n"
          ],
          "name": "stdout"
        }
      ]
    },
    {
      "cell_type": "code",
      "metadata": {
        "colab": {
          "base_uri": "https://localhost:8080/"
        },
        "id": "UJADYf0xA9sD",
        "outputId": "7dcb310d-0ff5-411a-9678-17514feda26d"
      },
      "source": [
        "from keras.preprocessing import image\r\n",
        "import matplotlib.pyplot as plt\r\n",
        "\r\n",
        "train_images = np.expand_dims(train_images,axis=3)\r\n",
        "val_images = np.expand_dims(val_images,axis=3)\r\n",
        "test_images = np.expand_dims(test_images,axis=3)\r\n",
        "\r\n",
        "print(train_images.shape)"
      ],
      "execution_count": 6,
      "outputs": [
        {
          "output_type": "stream",
          "text": [
            "(546, 28, 28, 1)\n"
          ],
          "name": "stdout"
        }
      ]
    },
    {
      "cell_type": "code",
      "metadata": {
        "colab": {
          "base_uri": "https://localhost:8080/",
          "height": 284
        },
        "id": "EO90BSVgPeP-",
        "outputId": "deba6002-3f2a-4ae3-8e3f-4fd6f6c58327"
      },
      "source": [
        "plt.imshow(image.array_to_img(train_images[1]))"
      ],
      "execution_count": 7,
      "outputs": [
        {
          "output_type": "execute_result",
          "data": {
            "text/plain": [
              "<matplotlib.image.AxesImage at 0x7fd2df9f30b8>"
            ]
          },
          "metadata": {
            "tags": []
          },
          "execution_count": 7
        },
        {
          "output_type": "display_data",
          "data": {
            "image/png": "[encoded data removed]",
            "text/plain": [
              "<Figure size 432x288 with 1 Axes>"
            ]
          },
          "metadata": {
            "tags": [],
            "needs_background": "light"
          }
        }
      ]
    },
    {
      "cell_type": "code",
      "metadata": {
        "colab": {
          "base_uri": "https://localhost:8080/"
        },
        "id": "IG8i1ToOD0wo",
        "outputId": "c67cf91b-6ea5-436c-e104-732265841d08"
      },
      "source": [
        "import keras\r\n",
        "import keras.models as models\r\n",
        "import keras.layers as layers\r\n",
        "\r\n",
        "model = models.Sequential()\r\n",
        "model.add(keras.Input(shape=(28,28,1)))\r\n",
        "model.add(keras.layers.Conv2D(32,(3,3),activation='relu'))\r\n",
        "model.add(keras.layers.MaxPooling2D(pool_size=(2,2)))\r\n",
        "model.add(keras.layers.Conv2D(32,(3,3),activation='relu'))\r\n",
        "model.add(keras.layers.Conv2D(64,(3,3),activation='relu'))\r\n",
        "model.add(keras.layers.Conv2D(128,(3,3),activation='relu'))\r\n",
        "model.add(keras.layers.MaxPooling2D(pool_size=(2,2)))\r\n",
        "model.add(keras.layers.Flatten())\r\n",
        "model.add(keras.layers.Dense(128,activation='relu',kernel_regularizer=keras.regularizers.l2(0.01)))\r\n",
        "model.add(keras.layers.Dropout(0.5))\r\n",
        "model.add(keras.layers.Dense(1,activation='sigmoid'))\r\n",
        "\r\n",
        "model.compile(optimizer=keras.optimizers.Adam(learning_rate=0.002),\r\n",
        "              loss=keras.losses.binary_crossentropy,\r\n",
        "              metrics=['acc'])\r\n",
        "\r\n",
        "model.summary()"
      ],
      "execution_count": 8,
      "outputs": [
        {
          "output_type": "stream",
          "text": [
            "Model: \"sequential\"\n",
            "_________________________________________________________________\n",
            "Layer (type)                 Output Shape              Param #   \n",
            "=================================================================\n",
            "conv2d (Conv2D)              (None, 26, 26, 32)        320       \n",
            "_________________________________________________________________\n",
            "max_pooling2d (MaxPooling2D) (None, 13, 13, 32)        0         \n",
            "_________________________________________________________________\n",
            "conv2d_1 (Conv2D)            (None, 11, 11, 32)        9248      \n",
            "_________________________________________________________________\n",
            "conv2d_2 (Conv2D)            (None, 9, 9, 64)          18496     \n",
            "_________________________________________________________________\n",
            "conv2d_3 (Conv2D)            (None, 7, 7, 128)         73856     \n",
            "_________________________________________________________________\n",
            "max_pooling2d_1 (MaxPooling2 (None, 3, 3, 128)         0         \n",
            "_________________________________________________________________\n",
            "flatten (Flatten)            (None, 1152)              0         \n",
            "_________________________________________________________________\n",
            "dense (Dense)                (None, 128)               147584    \n",
            "_________________________________________________________________\n",
            "dropout (Dropout)            (None, 128)               0         \n",
            "_________________________________________________________________\n",
            "dense_1 (Dense)              (None, 1)                 129       \n",
            "=================================================================\n",
            "Total params: 249,633\n",
            "Trainable params: 249,633\n",
            "Non-trainable params: 0\n",
            "_________________________________________________________________\n"
          ],
          "name": "stdout"
        }
      ]
    },
    {
      "cell_type": "code",
      "metadata": {
        "colab": {
          "base_uri": "https://localhost:8080/"
        },
        "id": "ttoQnaXVJAlm",
        "outputId": "5d8e488e-e487-43b4-f6c3-4ce3c64a07a6"
      },
      "source": [
        "history = model.fit(train_images,train_labels,batch_size=16,epochs=50,validation_data=(val_images,val_labels))"
      ],
      "execution_count": 9,
      "outputs": [
        {
          "output_type": "stream",
          "text": [
            "Epoch 1/50\n",
            "35/35 [==============================] - 2s 15ms/step - loss: 1.9400 - acc: 0.7179 - val_loss: 0.6546 - val_acc: 0.7308\n",
            "Epoch 2/50\n",
            "35/35 [==============================] - 0s 4ms/step - loss: 0.6442 - acc: 0.7320 - val_loss: 0.5649 - val_acc: 0.7308\n",
            "Epoch 3/50\n",
            "35/35 [==============================] - 0s 4ms/step - loss: 0.5449 - acc: 0.7528 - val_loss: 0.5497 - val_acc: 0.7308\n",
            "Epoch 4/50\n",
            "35/35 [==============================] - 0s 4ms/step - loss: 0.5413 - acc: 0.7301 - val_loss: 0.5753 - val_acc: 0.7308\n",
            "Epoch 5/50\n",
            "35/35 [==============================] - 0s 4ms/step - loss: 0.5622 - acc: 0.7336 - val_loss: 0.5478 - val_acc: 0.7308\n",
            "Epoch 6/50\n",
            "35/35 [==============================] - 0s 4ms/step - loss: 0.5480 - acc: 0.7308 - val_loss: 0.5440 - val_acc: 0.7308\n",
            "Epoch 7/50\n",
            "35/35 [==============================] - 0s 3ms/step - loss: 0.5579 - acc: 0.7821 - val_loss: 0.5676 - val_acc: 0.7308\n",
            "Epoch 8/50\n",
            "35/35 [==============================] - 0s 3ms/step - loss: 0.5665 - acc: 0.7213 - val_loss: 0.5159 - val_acc: 0.7436\n",
            "Epoch 9/50\n",
            "35/35 [==============================] - 0s 3ms/step - loss: 0.5657 - acc: 0.7405 - val_loss: 0.5055 - val_acc: 0.7821\n",
            "Epoch 10/50\n",
            "35/35 [==============================] - 0s 4ms/step - loss: 0.5408 - acc: 0.7673 - val_loss: 0.5524 - val_acc: 0.7564\n",
            "Epoch 11/50\n",
            "35/35 [==============================] - 0s 4ms/step - loss: 0.5557 - acc: 0.7186 - val_loss: 0.5285 - val_acc: 0.7564\n",
            "Epoch 12/50\n",
            "35/35 [==============================] - 0s 4ms/step - loss: 0.4904 - acc: 0.7890 - val_loss: 0.5309 - val_acc: 0.7564\n",
            "Epoch 13/50\n",
            "35/35 [==============================] - 0s 3ms/step - loss: 0.5115 - acc: 0.7397 - val_loss: 0.4925 - val_acc: 0.7821\n",
            "Epoch 14/50\n",
            "35/35 [==============================] - 0s 4ms/step - loss: 0.4873 - acc: 0.7715 - val_loss: 0.5038 - val_acc: 0.7821\n",
            "Epoch 15/50\n",
            "35/35 [==============================] - 0s 3ms/step - loss: 0.4816 - acc: 0.7678 - val_loss: 0.5124 - val_acc: 0.8077\n",
            "Epoch 16/50\n",
            "35/35 [==============================] - 0s 4ms/step - loss: 0.5197 - acc: 0.7820 - val_loss: 0.5002 - val_acc: 0.7949\n",
            "Epoch 17/50\n",
            "35/35 [==============================] - 0s 4ms/step - loss: 0.4333 - acc: 0.8246 - val_loss: 0.4824 - val_acc: 0.7821\n",
            "Epoch 18/50\n",
            "35/35 [==============================] - 0s 4ms/step - loss: 0.4349 - acc: 0.8087 - val_loss: 0.4744 - val_acc: 0.8205\n",
            "Epoch 19/50\n",
            "35/35 [==============================] - 0s 4ms/step - loss: 0.4309 - acc: 0.8024 - val_loss: 0.5288 - val_acc: 0.8205\n",
            "Epoch 20/50\n",
            "35/35 [==============================] - 0s 4ms/step - loss: 0.4858 - acc: 0.7982 - val_loss: 0.7066 - val_acc: 0.8077\n",
            "Epoch 21/50\n",
            "35/35 [==============================] - 0s 4ms/step - loss: 0.4344 - acc: 0.8027 - val_loss: 0.4560 - val_acc: 0.8333\n",
            "Epoch 22/50\n",
            "35/35 [==============================] - 0s 4ms/step - loss: 0.5570 - acc: 0.7603 - val_loss: 0.4960 - val_acc: 0.7821\n",
            "Epoch 23/50\n",
            "35/35 [==============================] - 0s 4ms/step - loss: 0.4556 - acc: 0.7949 - val_loss: 0.4845 - val_acc: 0.7949\n",
            "Epoch 24/50\n",
            "35/35 [==============================] - 0s 4ms/step - loss: 0.5329 - acc: 0.7665 - val_loss: 0.4683 - val_acc: 0.8077\n",
            "Epoch 25/50\n",
            "35/35 [==============================] - 0s 4ms/step - loss: 0.4593 - acc: 0.8030 - val_loss: 0.4327 - val_acc: 0.8590\n",
            "Epoch 26/50\n",
            "35/35 [==============================] - 0s 6ms/step - loss: 0.4121 - acc: 0.8355 - val_loss: 0.4372 - val_acc: 0.8462\n",
            "Epoch 27/50\n",
            "35/35 [==============================] - 0s 4ms/step - loss: 0.4431 - acc: 0.7882 - val_loss: 0.4106 - val_acc: 0.8333\n",
            "Epoch 28/50\n",
            "35/35 [==============================] - 0s 4ms/step - loss: 0.4293 - acc: 0.8392 - val_loss: 0.4305 - val_acc: 0.8462\n",
            "Epoch 29/50\n",
            "35/35 [==============================] - 0s 4ms/step - loss: 0.4436 - acc: 0.8009 - val_loss: 0.3914 - val_acc: 0.8846\n",
            "Epoch 30/50\n",
            "35/35 [==============================] - 0s 4ms/step - loss: 0.4069 - acc: 0.8598 - val_loss: 0.4410 - val_acc: 0.8333\n",
            "Epoch 31/50\n",
            "35/35 [==============================] - 0s 4ms/step - loss: 0.3897 - acc: 0.8290 - val_loss: 0.3672 - val_acc: 0.8974\n",
            "Epoch 32/50\n",
            "35/35 [==============================] - 0s 4ms/step - loss: 0.3526 - acc: 0.8514 - val_loss: 0.4234 - val_acc: 0.8590\n",
            "Epoch 33/50\n",
            "35/35 [==============================] - 0s 4ms/step - loss: 0.3630 - acc: 0.8377 - val_loss: 0.4040 - val_acc: 0.8846\n",
            "Epoch 34/50\n",
            "35/35 [==============================] - 0s 4ms/step - loss: 0.3529 - acc: 0.8725 - val_loss: 0.4063 - val_acc: 0.8462\n",
            "Epoch 35/50\n",
            "35/35 [==============================] - 0s 3ms/step - loss: 0.4230 - acc: 0.8150 - val_loss: 0.3674 - val_acc: 0.8718\n",
            "Epoch 36/50\n",
            "35/35 [==============================] - 0s 4ms/step - loss: 0.3479 - acc: 0.8413 - val_loss: 0.3964 - val_acc: 0.8590\n",
            "Epoch 37/50\n",
            "35/35 [==============================] - 0s 4ms/step - loss: 0.3691 - acc: 0.8420 - val_loss: 0.3919 - val_acc: 0.8462\n",
            "Epoch 38/50\n",
            "35/35 [==============================] - 0s 4ms/step - loss: 0.3463 - acc: 0.8696 - val_loss: 0.3758 - val_acc: 0.8846\n",
            "Epoch 39/50\n",
            "35/35 [==============================] - 0s 4ms/step - loss: 0.3296 - acc: 0.8739 - val_loss: 0.4076 - val_acc: 0.8718\n",
            "Epoch 40/50\n",
            "35/35 [==============================] - 0s 3ms/step - loss: 0.3155 - acc: 0.8750 - val_loss: 0.4082 - val_acc: 0.8462\n",
            "Epoch 41/50\n",
            "35/35 [==============================] - 0s 4ms/step - loss: 0.3089 - acc: 0.8858 - val_loss: 0.3993 - val_acc: 0.8846\n",
            "Epoch 42/50\n",
            "35/35 [==============================] - 0s 4ms/step - loss: 0.3063 - acc: 0.8823 - val_loss: 0.4850 - val_acc: 0.8590\n",
            "Epoch 43/50\n",
            "35/35 [==============================] - 0s 4ms/step - loss: 0.3098 - acc: 0.8916 - val_loss: 0.4131 - val_acc: 0.8846\n",
            "Epoch 44/50\n",
            "35/35 [==============================] - 0s 4ms/step - loss: 0.3058 - acc: 0.8911 - val_loss: 0.4184 - val_acc: 0.8974\n",
            "Epoch 45/50\n",
            "35/35 [==============================] - 0s 4ms/step - loss: 0.2100 - acc: 0.9341 - val_loss: 0.4796 - val_acc: 0.8590\n",
            "Epoch 46/50\n",
            "35/35 [==============================] - 0s 4ms/step - loss: 0.2734 - acc: 0.8997 - val_loss: 0.4264 - val_acc: 0.8974\n",
            "Epoch 47/50\n",
            "35/35 [==============================] - 0s 4ms/step - loss: 0.2321 - acc: 0.9263 - val_loss: 0.5025 - val_acc: 0.8718\n",
            "Epoch 48/50\n",
            "35/35 [==============================] - 0s 4ms/step - loss: 0.2748 - acc: 0.9158 - val_loss: 0.4893 - val_acc: 0.8846\n",
            "Epoch 49/50\n",
            "35/35 [==============================] - 0s 4ms/step - loss: 0.2536 - acc: 0.9111 - val_loss: 0.6328 - val_acc: 0.8846\n",
            "Epoch 50/50\n",
            "35/35 [==============================] - 0s 4ms/step - loss: 0.3115 - acc: 0.8891 - val_loss: 0.4069 - val_acc: 0.9231\n"
          ],
          "name": "stdout"
        }
      ]
    },
    {
      "cell_type": "code",
      "metadata": {
        "colab": {
          "base_uri": "https://localhost:8080/",
          "height": 545
        },
        "id": "ZgEUTih6L4i5",
        "outputId": "c31b6a03-c495-4169-f73c-9526290d83e8"
      },
      "source": [
        "acc = history.history['acc']\r\n",
        "val_acc = history.history['val_acc']\r\n",
        "loss = history.history['loss']\r\n",
        "val_loss = history.history['val_loss']\r\n",
        "\r\n",
        "epochs = range(1, len(acc) + 1)\r\n",
        "\r\n",
        "plt.plot(epochs, acc, 'bo', label='Training acc')\r\n",
        "plt.plot(epochs, val_acc, 'b', label='Validation acc')\r\n",
        "plt.title('Training and validation accuracy')\r\n",
        "plt.legend()\r\n",
        "plt.figure()\r\n",
        "\r\n",
        "plt.plot(epochs, loss, 'bo', label='Training loss')\r\n",
        "plt.plot(epochs, val_loss, 'b', label='Validation loss')\r\n",
        "plt.title('Training and validation loss')\r\n",
        "plt.legend()\r\n",
        "plt.show()"
      ],
      "execution_count": 10,
      "outputs": [
        {
          "output_type": "display_data",
          "data": {
            "image/png": "[encoded data removed]",
            "text/plain": [
              "<Figure size 432x288 with 1 Axes>"
            ]
          },
          "metadata": {
            "tags": [],
            "needs_background": "light"
          }
        },
        {
          "output_type": "display_data",
          "data": {
            "image/png": "[encoded data removed]",
            "text/plain": [
              "<Figure size 432x288 with 1 Axes>"
            ]
          },
          "metadata": {
            "tags": [],
            "needs_background": "light"
          }
        }
      ]
    },
    {
      "cell_type": "code",
      "metadata": {
        "colab": {
          "base_uri": "https://localhost:8080/"
        },
        "id": "PIZXuQ9zw3Hu",
        "outputId": "f9ee0fb5-608c-4a40-9f35-abbd4f4b24c5"
      },
      "source": [
        "from sklearn.metrics import classification_report\r\n",
        "\r\n",
        "predictions = model.predict(test_images)\r\n",
        "print(predictions[4])\r\n",
        "print(test_labels[4])\r\n",
        "\r\n",
        "p = np.round(predictions)\r\n",
        "\r\n",
        "print(classification_report(test_labels,p))"
      ],
      "execution_count": 11,
      "outputs": [
        {
          "output_type": "stream",
          "text": [
            "[0.9870897]\n",
            "[1]\n",
            "              precision    recall  f1-score   support\n",
            "\n",
            "           0       0.79      0.64      0.71        42\n",
            "           1       0.88      0.94      0.91       114\n",
            "\n",
            "    accuracy                           0.86       156\n",
            "   macro avg       0.84      0.79      0.81       156\n",
            "weighted avg       0.85      0.86      0.85       156\n",
            "\n"
          ],
          "name": "stdout"
        }
      ]
    },
    {
      "cell_type": "code",
      "metadata": {
        "colab": {
          "base_uri": "https://localhost:8080/"
        },
        "id": "7yu30zHkNNmY",
        "outputId": "e4ed0f2b-5958-45b4-baf8-6d717435810f"
      },
      "source": [
        "# accuracy is not a suitable metric for evaluation\r\n",
        "# because dataset is imbalanced\r\n",
        "result = model.evaluate(test_images, test_labels)\r\n",
        "print(\"accuracy on test data: \",result[1])"
      ],
      "execution_count": 12,
      "outputs": [
        {
          "output_type": "stream",
          "text": [
            "5/5 [==============================] - 0s 2ms/step - loss: 0.4764 - acc: 0.8590\n",
            "accuracy on test data:  0.8589743375778198\n"
          ],
          "name": "stdout"
        }
      ]
    },
    {
      "cell_type": "code",
      "metadata": {
        "colab": {
          "base_uri": "https://localhost:8080/"
        },
        "id": "wfA59YZgRLHx",
        "outputId": "de5dfbf2-1fe2-4a96-bf87-cc11573062fb"
      },
      "source": [
        "(unique, counts) = np.unique(train_labels, return_counts=True)\r\n",
        "frequencies = np.asarray((unique, counts)).T\r\n",
        "print(frequencies)"
      ],
      "execution_count": 13,
      "outputs": [
        {
          "output_type": "stream",
          "text": [
            "[[  0 147]\n",
            " [  1 399]]\n"
          ],
          "name": "stdout"
        }
      ]
    }
  ]
}